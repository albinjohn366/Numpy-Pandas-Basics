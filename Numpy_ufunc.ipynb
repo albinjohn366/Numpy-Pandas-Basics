{
  "nbformat": 4,
  "nbformat_minor": 0,
  "metadata": {
    "colab": {
      "name": "Numpy_ufunc.ipynb",
      "provenance": [],
      "collapsed_sections": [],
      "authorship_tag": "ABX9TyMqyE+u5EW22v7V0BDRrTcX"
    },
    "kernelspec": {
      "name": "python3",
      "display_name": "Python 3"
    }
  },
  "cells": [
    {
      "cell_type": "markdown",
      "metadata": {
        "id": "mF5huw_WUWkA"
      },
      "source": [
        "Universal functions can be used to do different operations on nd-array liike reducing, accumulating, adding, etc"
      ]
    },
    {
      "cell_type": "code",
      "metadata": {
        "id": "nzIcUFgHVFMX"
      },
      "source": [
        "import numpy as np"
      ],
      "execution_count": 16,
      "outputs": []
    },
    {
      "cell_type": "code",
      "metadata": {
        "colab": {
          "base_uri": "https://localhost:8080/"
        },
        "id": "TP4t_6YAUivS",
        "outputId": "b9d4fca2-c9ee-42b3-b4e7-a1b790c5d716"
      },
      "source": [
        "# Adding matrix values\r\n",
        "a = np.array([[4, 5, 6, 7], [3, 5, 6, 3]])\r\n",
        "b = np.array([[14, 15, 16, 17], [13, 51, 16, 31]])\r\n",
        "c = np.add(a, b)\r\n",
        "print(c)"
      ],
      "execution_count": 17,
      "outputs": [
        {
          "output_type": "stream",
          "text": [
            "[[18 20 22 24]\n",
            " [16 56 22 34]]\n"
          ],
          "name": "stdout"
        }
      ]
    },
    {
      "cell_type": "code",
      "metadata": {
        "id": "Do4079ZgZYxM"
      },
      "source": [
        "# Creating functions\r\n",
        "def f00(a, b):\r\n",
        "  return a + b\r\n",
        "\r\n",
        "a = np.array([[4, 5, 6, 7], [3, 5, 6, 3]])\r\n",
        "b = np.array([[14, 15, 16, 17], [13, 51, 16, 31]])\r\n",
        "c = np.frompyfunc(f00, 2, 1)"
      ],
      "execution_count": 23,
      "outputs": []
    },
    {
      "cell_type": "code",
      "metadata": {
        "colab": {
          "base_uri": "https://localhost:8080/"
        },
        "id": "Vj-JrWl9pNRi",
        "outputId": "f2741632-bb5a-4058-a811-235d28d91edb"
      },
      "source": [
        "# Subtraction\r\n",
        "a = np.array([[4, 5, 6, 7], [3, 5, 6, 3]])\r\n",
        "b = np.array([[14, 15, 16, 17], [13, 51, 16, 31]])\r\n",
        "print(np.subtract(a, b))\r\n",
        "\r\n",
        "# Multiplication\r\n",
        "print()\r\n",
        "print(np.multiply(a, b))\r\n",
        "\r\n",
        "# Division\r\n",
        "print()\r\n",
        "print(np.divide(b, a))\r\n",
        "\r\n",
        "# Power\r\n",
        "print()\r\n",
        "print(np.power(a, 2))\r\n",
        "\r\n",
        "# Remainder\r\n",
        "print()\r\n",
        "print(np.mod(a, 2))"
      ],
      "execution_count": 29,
      "outputs": [
        {
          "output_type": "stream",
          "text": [
            "[[-10 -10 -10 -10]\n",
            " [-10 -46 -10 -28]]\n",
            "\n",
            "[[ 56  75  96 119]\n",
            " [ 39 255  96  93]]\n",
            "\n",
            "[[ 3.5         3.          2.66666667  2.42857143]\n",
            " [ 4.33333333 10.2         2.66666667 10.33333333]]\n",
            "\n",
            "[[16 25 36 49]\n",
            " [ 9 25 36  9]]\n",
            "\n",
            "[[0 1 0 1]\n",
            " [1 1 0 1]]\n"
          ],
          "name": "stdout"
        }
      ]
    },
    {
      "cell_type": "code",
      "metadata": {
        "colab": {
          "base_uri": "https://localhost:8080/"
        },
        "id": "ll1hDb3fqsbb",
        "outputId": "fe59f7e7-fd98-4e68-fdf2-d4be74f35266"
      },
      "source": [
        "# Quotient and mode\r\n",
        "print(np.divmod(a, 2))\r\n",
        "\r\n",
        "# Absolute value\r\n",
        "print()\r\n",
        "print(np.absolute(np.subtract(a, b)))"
      ],
      "execution_count": 31,
      "outputs": [
        {
          "output_type": "stream",
          "text": [
            "(array([[2, 2, 3, 3],\n",
            "       [1, 2, 3, 1]]), array([[0, 1, 0, 1],\n",
            "       [1, 1, 0, 1]]))\n",
            "\n",
            "[[10 10 10 10]\n",
            " [10 46 10 28]]\n"
          ],
          "name": "stdout"
        }
      ]
    },
    {
      "cell_type": "code",
      "metadata": {
        "colab": {
          "base_uri": "https://localhost:8080/"
        },
        "id": "jjzweVjcrho8",
        "outputId": "e384911f-d81e-464f-bea2-57affdf2ef92"
      },
      "source": [
        "# Rounding decimals\r\n",
        "x = np.array([3.44324, 5.09087, -3.756])\r\n",
        "print(np.trunc(x))\r\n",
        "print(np.fix(x))\r\n",
        "print(np.around(x, 2))\r\n",
        "print(np.ceil(x))\r\n",
        "print(np.floor(x))"
      ],
      "execution_count": 35,
      "outputs": [
        {
          "output_type": "stream",
          "text": [
            "[ 3.  5. -3.]\n",
            "[ 3.  5. -3.]\n",
            "[ 3.44  5.09 -3.76]\n",
            "[ 4.  6. -3.]\n",
            "[ 3.  5. -4.]\n"
          ],
          "name": "stdout"
        }
      ]
    },
    {
      "cell_type": "code",
      "metadata": {
        "colab": {
          "base_uri": "https://localhost:8080/"
        },
        "id": "7P0QOq06umfS",
        "outputId": "60039fc8-efc7-4ec6-dd24-4a45a8ef4e16"
      },
      "source": [
        "# Total summation\r\n",
        "print(np.sum([a, b]))\r\n",
        "\r\n",
        "# Summation over an axis\r\n",
        "print()\r\n",
        "print(a)\r\n",
        "print(b)\r\n",
        "print(np.sum([a, b], axis=1))\r\n",
        "\r\n",
        "# Cumulative sum\r\n",
        "print()\r\n",
        "print(np.cumsum([a, b]))"
      ],
      "execution_count": 48,
      "outputs": [
        {
          "output_type": "stream",
          "text": [
            "212\n",
            "\n",
            "[[4 5 6 7]\n",
            " [3 5 6 3]]\n",
            "[[14 15 16 17]\n",
            " [13 51 16 31]]\n",
            "[[ 7 10 12 10]\n",
            " [27 66 32 48]]\n",
            "\n",
            "[  4   9  15  22  25  30  36  39  53  68  84 101 114 165 181 212]\n"
          ],
          "name": "stdout"
        }
      ]
    },
    {
      "cell_type": "code",
      "metadata": {
        "colab": {
          "base_uri": "https://localhost:8080/"
        },
        "id": "UEJK590Iumb7",
        "outputId": "b4acf254-805f-4573-9404-d1085acdfe84"
      },
      "source": [
        "# Product, product over an axis and cumulative product\r\n",
        "print(np.product([a, b]))\r\n",
        "print(np.product([a, b], axis=1))\r\n",
        "print(np.cumprod([a, b]))"
      ],
      "execution_count": 51,
      "outputs": [
        {
          "output_type": "stream",
          "text": [
            "4260165331968000\n",
            "[[ 12  25  36  21]\n",
            " [182 765 256 527]]\n",
            "[               4               20              120              840\n",
            "             2520            12600            75600           226800\n",
            "          3175200         47628000        762048000      12954816000\n",
            "     168412608000    8589043008000  137424688128000 4260165331968000]\n"
          ],
          "name": "stdout"
        }
      ]
    },
    {
      "cell_type": "code",
      "metadata": {
        "colab": {
          "base_uri": "https://localhost:8080/"
        },
        "id": "3aCWYKuXwGqS",
        "outputId": "2e3761d3-1098-4dc4-9f12-9736c927b77a"
      },
      "source": [
        "# Dicrete difference\r\n",
        "print(a)\r\n",
        "print()\r\n",
        "print(np.diff(a))\r\n",
        "print()\r\n",
        "print(np.diff(a, n=3))"
      ],
      "execution_count": 54,
      "outputs": [
        {
          "output_type": "stream",
          "text": [
            "[[4 5 6 7]\n",
            " [3 5 6 3]]\n",
            "\n",
            "[[ 1  1  1]\n",
            " [ 2  1 -3]]\n",
            "\n",
            "[[ 0]\n",
            " [-3]]\n"
          ],
          "name": "stdout"
        }
      ]
    },
    {
      "cell_type": "code",
      "metadata": {
        "colab": {
          "base_uri": "https://localhost:8080/"
        },
        "id": "8ozj3tD4xz01",
        "outputId": "f5f8d105-4625-4241-d993-a90d864ab58e"
      },
      "source": [
        "# LCM using numpy\r\n",
        "print(np.lcm(3, 4))\r\n",
        "print(np.lcm.reduce(a))\r\n",
        "print(np.lcm.reduce(np.array([1, 4, 23, 45])))"
      ],
      "execution_count": 58,
      "outputs": [
        {
          "output_type": "stream",
          "text": [
            "12\n",
            "[12  5  6 21]\n",
            "4140\n"
          ],
          "name": "stdout"
        }
      ]
    },
    {
      "cell_type": "code",
      "metadata": {
        "colab": {
          "base_uri": "https://localhost:8080/"
        },
        "id": "V6WUnFPa31sn",
        "outputId": "03f0c7b2-19b2-4a66-86e8-c8ac4b6805b5"
      },
      "source": [
        "# GCD Greatest common denominator\r\n",
        "print(np.gcd.reduce(np.array([12, 24, 30, 42])))\r\n",
        "print(np.gcd(24, 12))"
      ],
      "execution_count": 67,
      "outputs": [
        {
          "output_type": "stream",
          "text": [
            "6\n",
            "12\n"
          ],
          "name": "stdout"
        }
      ]
    },
    {
      "cell_type": "code",
      "metadata": {
        "colab": {
          "base_uri": "https://localhost:8080/"
        },
        "id": "ztKk3yrc4x5k",
        "outputId": "2dbf22e6-30e0-4ebd-8764-bd6541cae969"
      },
      "source": [
        "# Set functions\r\n",
        "w = np.array([1, 45, 1, 4, 3, 15, 2, 5])\r\n",
        "u = np.array([23, 45, 12, 56, 56])\r\n",
        "print(np.unique(w))\r\n",
        "print(np.union1d(u, w))\r\n",
        "print(np.intersect1d(u, w))\r\n",
        "print(np.setdiff1d(w, u))\r\n",
        "print(np.setxor1d(w, u))"
      ],
      "execution_count": 82,
      "outputs": [
        {
          "output_type": "stream",
          "text": [
            "[ 1  2  3  4  5 15 45]\n",
            "[ 1  2  3  4  5 12 15 23 45 56]\n",
            "[45]\n",
            "[ 1  2  3  4  5 15]\n",
            "[ 1  2  3  4  5 12 15 23 56]\n"
          ],
          "name": "stdout"
        }
      ]
    }
  ]
}